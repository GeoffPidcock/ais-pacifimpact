{
 "cells": [
  {
   "cell_type": "code",
   "execution_count": 189,
   "metadata": {},
   "outputs": [],
   "source": [
    "import pandas as pd \n",
    "import numpy as np\n",
    "import matplotlib.pyplot as plt"
   ]
  },
  {
   "cell_type": "code",
   "execution_count": 3,
   "metadata": {},
   "outputs": [
    {
     "name": "stderr",
     "output_type": "stream",
     "text": [
      "b'Skipping line 85349: expected 28 fields, saw 29\\nSkipping line 85394: expected 28 fields, saw 29\\nSkipping line 85410: expected 28 fields, saw 29\\nSkipping line 85898: expected 28 fields, saw 29\\nSkipping line 85992: expected 28 fields, saw 29\\nSkipping line 86018: expected 28 fields, saw 29\\nSkipping line 86022: expected 28 fields, saw 29\\nSkipping line 86076: expected 28 fields, saw 29\\nSkipping line 86106: expected 28 fields, saw 29\\nSkipping line 86120: expected 28 fields, saw 29\\nSkipping line 86155: expected 28 fields, saw 29\\nSkipping line 86337: expected 28 fields, saw 29\\nSkipping line 86375: expected 28 fields, saw 29\\nSkipping line 86393: expected 28 fields, saw 29\\nSkipping line 86422: expected 28 fields, saw 29\\nSkipping line 86433: expected 28 fields, saw 29\\nSkipping line 86485: expected 28 fields, saw 29\\nSkipping line 86525: expected 28 fields, saw 29\\nSkipping line 86708: expected 28 fields, saw 29\\nSkipping line 86714: expected 28 fields, saw 29\\nSkipping line 86716: expected 28 fields, saw 29\\nSkipping line 86725: expected 28 fields, saw 29\\nSkipping line 86749: expected 28 fields, saw 29\\nSkipping line 86752: expected 28 fields, saw 29\\nSkipping line 86755: expected 28 fields, saw 29\\nSkipping line 86783: expected 28 fields, saw 29\\nSkipping line 86790: expected 28 fields, saw 29\\nSkipping line 86791: expected 28 fields, saw 29\\nSkipping line 86836: expected 28 fields, saw 29\\nSkipping line 86865: expected 28 fields, saw 29\\nSkipping line 86871: expected 28 fields, saw 29\\nSkipping line 86874: expected 28 fields, saw 29\\nSkipping line 86891: expected 28 fields, saw 29\\nSkipping line 86944: expected 28 fields, saw 29\\nSkipping line 86957: expected 28 fields, saw 29\\nSkipping line 86967: expected 28 fields, saw 29\\nSkipping line 86969: expected 28 fields, saw 29\\nSkipping line 86997: expected 28 fields, saw 29\\nSkipping line 87027: expected 28 fields, saw 29\\nSkipping line 87068: expected 28 fields, saw 29\\nSkipping line 87070: expected 28 fields, saw 29\\nSkipping line 87143: expected 28 fields, saw 29\\nSkipping line 87181: expected 28 fields, saw 29\\nSkipping line 87187: expected 28 fields, saw 29\\nSkipping line 87331: expected 28 fields, saw 29\\nSkipping line 87414: expected 28 fields, saw 29\\nSkipping line 87416: expected 28 fields, saw 29\\nSkipping line 87418: expected 28 fields, saw 29\\nSkipping line 87420: expected 28 fields, saw 29\\nSkipping line 87588: expected 28 fields, saw 29\\nSkipping line 87691: expected 28 fields, saw 29\\nSkipping line 87751: expected 28 fields, saw 29\\nSkipping line 87846: expected 28 fields, saw 29\\nSkipping line 87931: expected 28 fields, saw 29\\nSkipping line 87955: expected 28 fields, saw 29\\nSkipping line 87977: expected 28 fields, saw 29\\nSkipping line 88000: expected 28 fields, saw 29\\nSkipping line 88100: expected 28 fields, saw 29\\nSkipping line 88149: expected 28 fields, saw 29\\nSkipping line 88154: expected 28 fields, saw 29\\nSkipping line 88201: expected 28 fields, saw 29\\nSkipping line 88272: expected 28 fields, saw 29\\nSkipping line 88411: expected 28 fields, saw 29\\nSkipping line 88418: expected 28 fields, saw 29\\nSkipping line 88444: expected 28 fields, saw 29\\nSkipping line 88483: expected 28 fields, saw 29\\n'\n",
      "b'Skipping line 493073: expected 28 fields, saw 29\\nSkipping line 493081: expected 28 fields, saw 29\\nSkipping line 493104: expected 28 fields, saw 29\\nSkipping line 493110: expected 28 fields, saw 29\\nSkipping line 493137: expected 28 fields, saw 29\\nSkipping line 493298: expected 28 fields, saw 29\\nSkipping line 493385: expected 28 fields, saw 29\\nSkipping line 493453: expected 28 fields, saw 29\\nSkipping line 493583: expected 28 fields, saw 29\\nSkipping line 493650: expected 28 fields, saw 29\\nSkipping line 493655: expected 28 fields, saw 29\\nSkipping line 493658: expected 28 fields, saw 29\\nSkipping line 493760: expected 28 fields, saw 29\\nSkipping line 493777: expected 28 fields, saw 29\\nSkipping line 493779: expected 28 fields, saw 29\\nSkipping line 493788: expected 28 fields, saw 29\\nSkipping line 493791: expected 28 fields, saw 29\\nSkipping line 493802: expected 28 fields, saw 29\\nSkipping line 493803: expected 28 fields, saw 29\\nSkipping line 493804: expected 28 fields, saw 29\\nSkipping line 493948: expected 28 fields, saw 29\\nSkipping line 493961: expected 28 fields, saw 29\\nSkipping line 493970: expected 28 fields, saw 29\\nSkipping line 493988: expected 28 fields, saw 29\\nSkipping line 493990: expected 28 fields, saw 29\\nSkipping line 493992: expected 28 fields, saw 29\\nSkipping line 494028: expected 28 fields, saw 29\\nSkipping line 494038: expected 28 fields, saw 29\\nSkipping line 494040: expected 28 fields, saw 29\\nSkipping line 494083: expected 28 fields, saw 29\\nSkipping line 494108: expected 28 fields, saw 29\\nSkipping line 494158: expected 28 fields, saw 29\\nSkipping line 494166: expected 28 fields, saw 29\\nSkipping line 494168: expected 28 fields, saw 29\\nSkipping line 494209: expected 28 fields, saw 29\\nSkipping line 494218: expected 28 fields, saw 29\\nSkipping line 494228: expected 28 fields, saw 29\\nSkipping line 494256: expected 28 fields, saw 29\\nSkipping line 494265: expected 28 fields, saw 29\\nSkipping line 494287: expected 28 fields, saw 29\\nSkipping line 494300: expected 28 fields, saw 29\\nSkipping line 494324: expected 28 fields, saw 29\\nSkipping line 494356: expected 28 fields, saw 29\\nSkipping line 494365: expected 28 fields, saw 29\\nSkipping line 494367: expected 28 fields, saw 29\\nSkipping line 494385: expected 28 fields, saw 29\\nSkipping line 494391: expected 28 fields, saw 29\\nSkipping line 494521: expected 28 fields, saw 29\\nSkipping line 494570: expected 28 fields, saw 29\\nSkipping line 494669: expected 28 fields, saw 29\\nSkipping line 494683: expected 28 fields, saw 29\\nSkipping line 494687: expected 28 fields, saw 29\\nSkipping line 494691: expected 28 fields, saw 29\\nSkipping line 494813: expected 28 fields, saw 29\\nSkipping line 494838: expected 28 fields, saw 29\\nSkipping line 494839: expected 28 fields, saw 29\\nSkipping line 494895: expected 28 fields, saw 29\\nSkipping line 494954: expected 28 fields, saw 29\\nSkipping line 494956: expected 28 fields, saw 29\\nSkipping line 495054: expected 28 fields, saw 29\\nSkipping line 495104: expected 28 fields, saw 29\\nSkipping line 495109: expected 28 fields, saw 29\\nSkipping line 495182: expected 28 fields, saw 29\\nSkipping line 495198: expected 28 fields, saw 29\\nSkipping line 495227: expected 28 fields, saw 29\\nSkipping line 495281: expected 28 fields, saw 29\\nSkipping line 495297: expected 28 fields, saw 29\\nSkipping line 495319: expected 28 fields, saw 29\\nSkipping line 495324: expected 28 fields, saw 29\\nSkipping line 495329: expected 28 fields, saw 29\\nSkipping line 495351: expected 28 fields, saw 29\\nSkipping line 495364: expected 28 fields, saw 29\\nSkipping line 495375: expected 28 fields, saw 29\\nSkipping line 495480: expected 28 fields, saw 29\\nSkipping line 495482: expected 28 fields, saw 29\\nSkipping line 495501: expected 28 fields, saw 29\\nSkipping line 495502: expected 28 fields, saw 29\\nSkipping line 495542: expected 28 fields, saw 29\\nSkipping line 495588: expected 28 fields, saw 29\\n'\n",
      "b'Skipping line 609519: expected 28 fields, saw 33\\n'\n",
      "b'Skipping line 711031: expected 28 fields, saw 33\\nSkipping line 711201: expected 28 fields, saw 33\\n'\n",
      "b'Skipping line 738049: expected 28 fields, saw 33\\n'\n",
      "b'Skipping line 806195: expected 28 fields, saw 33\\n'\n",
      "b'Skipping line 971162: expected 28 fields, saw 33\\nSkipping line 971176: expected 28 fields, saw 29\\nSkipping line 971272: expected 28 fields, saw 33\\nSkipping line 971294: expected 28 fields, saw 33\\nSkipping line 971296: expected 28 fields, saw 33\\nSkipping line 971304: expected 28 fields, saw 33\\nSkipping line 971312: expected 28 fields, saw 33\\nSkipping line 971321: expected 28 fields, saw 29\\n'\n",
      "b'Skipping line 1014692: expected 28 fields, saw 29\\nSkipping line 1014707: expected 28 fields, saw 29\\nSkipping line 1014799: expected 28 fields, saw 29\\nSkipping line 1014827: expected 28 fields, saw 29\\nSkipping line 1014934: expected 28 fields, saw 29\\nSkipping line 1014936: expected 28 fields, saw 29\\nSkipping line 1014940: expected 28 fields, saw 29\\nSkipping line 1014990: expected 28 fields, saw 29\\nSkipping line 1014992: expected 28 fields, saw 29\\nSkipping line 1015031: expected 28 fields, saw 29\\nSkipping line 1015033: expected 28 fields, saw 29\\nSkipping line 1015072: expected 28 fields, saw 29\\nSkipping line 1015105: expected 28 fields, saw 29\\nSkipping line 1015132: expected 28 fields, saw 29\\nSkipping line 1015138: expected 28 fields, saw 29\\nSkipping line 1015148: expected 28 fields, saw 29\\nSkipping line 1015218: expected 28 fields, saw 29\\nSkipping line 1015232: expected 28 fields, saw 29\\nSkipping line 1015242: expected 28 fields, saw 29\\nSkipping line 1015260: expected 28 fields, saw 29\\nSkipping line 1015271: expected 28 fields, saw 29\\nSkipping line 1015278: expected 28 fields, saw 29\\nSkipping line 1015279: expected 28 fields, saw 29\\nSkipping line 1015295: expected 28 fields, saw 29\\nSkipping line 1015326: expected 28 fields, saw 29\\nSkipping line 1015342: expected 28 fields, saw 29\\nSkipping line 1015359: expected 28 fields, saw 29\\nSkipping line 1015453: expected 28 fields, saw 29\\nSkipping line 1015455: expected 28 fields, saw 29\\nSkipping line 1015625: expected 28 fields, saw 29\\nSkipping line 1015633: expected 28 fields, saw 29\\nSkipping line 1015683: expected 28 fields, saw 29\\nSkipping line 1015695: expected 28 fields, saw 29\\nSkipping line 1015749: expected 28 fields, saw 29\\nSkipping line 1015753: expected 28 fields, saw 29\\n'\n",
      "b'Skipping line 1016205: expected 28 fields, saw 29\\nSkipping line 1016211: expected 28 fields, saw 29\\nSkipping line 1016216: expected 28 fields, saw 29\\nSkipping line 1016236: expected 28 fields, saw 29\\nSkipping line 1016339: expected 28 fields, saw 29\\nSkipping line 1016344: expected 28 fields, saw 29\\nSkipping line 1016402: expected 28 fields, saw 29\\nSkipping line 1016499: expected 28 fields, saw 29\\nSkipping line 1016540: expected 28 fields, saw 29\\nSkipping line 1016543: expected 28 fields, saw 29\\nSkipping line 1016576: expected 28 fields, saw 29\\nSkipping line 1016629: expected 28 fields, saw 29\\nSkipping line 1016709: expected 28 fields, saw 29\\nSkipping line 1016780: expected 28 fields, saw 29\\nSkipping line 1017220: expected 28 fields, saw 29\\nSkipping line 1017266: expected 28 fields, saw 29\\nSkipping line 1017468: expected 28 fields, saw 29\\nSkipping line 1017514: expected 28 fields, saw 29\\nSkipping line 1017682: expected 28 fields, saw 29\\nSkipping line 1017691: expected 28 fields, saw 29\\nSkipping line 1017885: expected 28 fields, saw 29\\nSkipping line 1017903: expected 28 fields, saw 29\\nSkipping line 1017907: expected 28 fields, saw 29\\nSkipping line 1017938: expected 28 fields, saw 29\\nSkipping line 1017949: expected 28 fields, saw 29\\nSkipping line 1018032: expected 28 fields, saw 29\\nSkipping line 1018090: expected 28 fields, saw 29\\nSkipping line 1018104: expected 28 fields, saw 29\\nSkipping line 1018163: expected 28 fields, saw 29\\nSkipping line 1018226: expected 28 fields, saw 29\\nSkipping line 1018360: expected 28 fields, saw 29\\nSkipping line 1018401: expected 28 fields, saw 29\\nSkipping line 1018428: expected 28 fields, saw 29\\nSkipping line 1018457: expected 28 fields, saw 29\\nSkipping line 1018468: expected 28 fields, saw 29\\nSkipping line 1018492: expected 28 fields, saw 29\\nSkipping line 1018519: expected 28 fields, saw 29\\nSkipping line 1018552: expected 28 fields, saw 29\\nSkipping line 1018574: expected 28 fields, saw 29\\nSkipping line 1018593: expected 28 fields, saw 29\\nSkipping line 1018622: expected 28 fields, saw 29\\nSkipping line 1018641: expected 28 fields, saw 29\\nSkipping line 1018689: expected 28 fields, saw 29\\nSkipping line 1018708: expected 28 fields, saw 29\\nSkipping line 1018767: expected 28 fields, saw 29\\nSkipping line 1018770: expected 28 fields, saw 29\\nSkipping line 1018776: expected 28 fields, saw 29\\nSkipping line 1018781: expected 28 fields, saw 29\\nSkipping line 1018813: expected 28 fields, saw 29\\nSkipping line 1018824: expected 28 fields, saw 29\\nSkipping line 1018842: expected 28 fields, saw 29\\nSkipping line 1018846: expected 28 fields, saw 29\\nSkipping line 1018853: expected 28 fields, saw 29\\nSkipping line 1018862: expected 28 fields, saw 29\\nSkipping line 1018864: expected 28 fields, saw 29\\nSkipping line 1018890: expected 28 fields, saw 29\\nSkipping line 1018900: expected 28 fields, saw 29\\nSkipping line 1018902: expected 28 fields, saw 29\\nSkipping line 1018903: expected 28 fields, saw 29\\nSkipping line 1018908: expected 28 fields, saw 29\\nSkipping line 1018910: expected 28 fields, saw 29\\nSkipping line 1018926: expected 28 fields, saw 29\\nSkipping line 1018943: expected 28 fields, saw 29\\nSkipping line 1018946: expected 28 fields, saw 29\\nSkipping line 1018959: expected 28 fields, saw 29\\nSkipping line 1018973: expected 28 fields, saw 29\\nSkipping line 1018995: expected 28 fields, saw 29\\nSkipping line 1019006: expected 28 fields, saw 29\\nSkipping line 1019007: expected 28 fields, saw 29\\nSkipping line 1019017: expected 28 fields, saw 29\\nSkipping line 1019040: expected 28 fields, saw 29\\nSkipping line 1019062: expected 28 fields, saw 29\\nSkipping line 1019072: expected 28 fields, saw 29\\nSkipping line 1019078: expected 28 fields, saw 29\\nSkipping line 1019168: expected 28 fields, saw 29\\nSkipping line 1019200: expected 28 fields, saw 29\\nSkipping line 1019206: expected 28 fields, saw 29\\nSkipping line 1019226: expected 28 fields, saw 29\\nSkipping line 1019252: expected 28 fields, saw 29\\nSkipping line 1019258: expected 28 fields, saw 29\\nSkipping line 1019284: expected 28 fields, saw 29\\nSkipping line 1019303: expected 28 fields, saw 29\\nSkipping line 1019316: expected 28 fields, saw 29\\nSkipping line 1019322: expected 28 fields, saw 29\\nSkipping line 1019326: expected 28 fields, saw 29\\nSkipping line 1019334: expected 28 fields, saw 29\\nSkipping line 1019354: expected 28 fields, saw 29\\nSkipping line 1019357: expected 28 fields, saw 29\\nSkipping line 1019360: expected 28 fields, saw 29\\nSkipping line 1019363: expected 28 fields, saw 29\\nSkipping line 1019389: expected 28 fields, saw 29\\nSkipping line 1019395: expected 28 fields, saw 29\\nSkipping line 1019413: expected 28 fields, saw 29\\nSkipping line 1019418: expected 28 fields, saw 29\\nSkipping line 1019422: expected 28 fields, saw 29\\nSkipping line 1019446: expected 28 fields, saw 29\\nSkipping line 1019465: expected 28 fields, saw 29\\nSkipping line 1019467: expected 28 fields, saw 29\\nSkipping line 1019477: expected 28 fields, saw 29\\nSkipping line 1019499: expected 28 fields, saw 29\\nSkipping line 1019501: expected 28 fields, saw 29\\nSkipping line 1019503: expected 28 fields, saw 29\\nSkipping line 1019558: expected 28 fields, saw 29\\nSkipping line 1019560: expected 28 fields, saw 29\\nSkipping line 1019580: expected 28 fields, saw 29\\nSkipping line 1019582: expected 28 fields, saw 29\\nSkipping line 1019590: expected 28 fields, saw 29\\nSkipping line 1019604: expected 28 fields, saw 29\\nSkipping line 1019609: expected 28 fields, saw 29\\nSkipping line 1019628: expected 28 fields, saw 29\\nSkipping line 1019651: expected 28 fields, saw 29\\nSkipping line 1019652: expected 28 fields, saw 29\\nSkipping line 1019682: expected 28 fields, saw 29\\nSkipping line 1019714: expected 28 fields, saw 29\\nSkipping line 1019824: expected 28 fields, saw 29\\nSkipping line 1019826: expected 28 fields, saw 29\\nSkipping line 1019827: expected 28 fields, saw 33\\n'\n",
      "b'Skipping line 1316811: expected 28 fields, saw 29\\n'\n",
      "b'Skipping line 1560709: expected 28 fields, saw 33\\nSkipping line 1560741: expected 28 fields, saw 33\\nSkipping line 1560753: expected 28 fields, saw 33\\nSkipping line 1560755: expected 28 fields, saw 29\\nSkipping line 1560763: expected 28 fields, saw 33\\nSkipping line 1560822: expected 28 fields, saw 33\\nSkipping line 1560832: expected 28 fields, saw 33\\nSkipping line 1560850: expected 28 fields, saw 33\\n'\n",
      "b'Skipping line 1602445: expected 28 fields, saw 29\\nSkipping line 1602509: expected 28 fields, saw 29\\nSkipping line 1602593: expected 28 fields, saw 29\\nSkipping line 1602719: expected 28 fields, saw 29\\nSkipping line 1602823: expected 28 fields, saw 29\\nSkipping line 1602890: expected 28 fields, saw 29\\nSkipping line 1602908: expected 28 fields, saw 29\\nSkipping line 1602970: expected 28 fields, saw 29\\nSkipping line 1602984: expected 28 fields, saw 29\\nSkipping line 1602994: expected 28 fields, saw 29\\nSkipping line 1602999: expected 28 fields, saw 29\\nSkipping line 1603001: expected 28 fields, saw 29\\nSkipping line 1603003: expected 28 fields, saw 29\\nSkipping line 1603006: expected 28 fields, saw 29\\nSkipping line 1603007: expected 28 fields, saw 29\\nSkipping line 1603060: expected 28 fields, saw 29\\nSkipping line 1603193: expected 28 fields, saw 29\\nSkipping line 1603209: expected 28 fields, saw 29\\nSkipping line 1603310: expected 28 fields, saw 29\\nSkipping line 1603404: expected 28 fields, saw 29\\nSkipping line 1603416: expected 28 fields, saw 29\\nSkipping line 1603477: expected 28 fields, saw 29\\nSkipping line 1603479: expected 28 fields, saw 29\\nSkipping line 1603482: expected 28 fields, saw 29\\nSkipping line 1603486: expected 28 fields, saw 29\\nSkipping line 1603927: expected 28 fields, saw 29\\nSkipping line 1604074: expected 28 fields, saw 29\\nSkipping line 1604117: expected 28 fields, saw 29\\nSkipping line 1604267: expected 28 fields, saw 29\\nSkipping line 1604299: expected 28 fields, saw 29\\nSkipping line 1604304: expected 28 fields, saw 29\\nSkipping line 1604369: expected 28 fields, saw 29\\nSkipping line 1604393: expected 28 fields, saw 29\\nSkipping line 1604474: expected 28 fields, saw 29\\nSkipping line 1604479: expected 28 fields, saw 29\\nSkipping line 1604481: expected 28 fields, saw 29\\nSkipping line 1604522: expected 28 fields, saw 29\\nSkipping line 1604538: expected 28 fields, saw 29\\nSkipping line 1604548: expected 28 fields, saw 29\\nSkipping line 1604632: expected 28 fields, saw 29\\nSkipping line 1604685: expected 28 fields, saw 29\\nSkipping line 1604712: expected 28 fields, saw 29\\nSkipping line 1604842: expected 28 fields, saw 29\\nSkipping line 1604885: expected 28 fields, saw 29\\nSkipping line 1604984: expected 28 fields, saw 29\\nSkipping line 1605042: expected 28 fields, saw 29\\nSkipping line 1605166: expected 28 fields, saw 29\\nSkipping line 1605227: expected 28 fields, saw 29\\nSkipping line 1605291: expected 28 fields, saw 29\\nSkipping line 1605325: expected 28 fields, saw 29\\nSkipping line 1605334: expected 28 fields, saw 29\\nSkipping line 1605346: expected 28 fields, saw 29\\nSkipping line 1605357: expected 28 fields, saw 29\\nSkipping line 1605385: expected 28 fields, saw 29\\nSkipping line 1605566: expected 28 fields, saw 29\\nSkipping line 1605777: expected 28 fields, saw 29\\nSkipping line 1605838: expected 28 fields, saw 29\\nSkipping line 1605929: expected 28 fields, saw 29\\nSkipping line 1605961: expected 28 fields, saw 29\\n'\n",
      "b'Skipping line 1606177: expected 28 fields, saw 29\\nSkipping line 1606180: expected 28 fields, saw 29\\nSkipping line 1606214: expected 28 fields, saw 29\\nSkipping line 1606290: expected 28 fields, saw 29\\nSkipping line 1606301: expected 28 fields, saw 29\\nSkipping line 1606308: expected 28 fields, saw 29\\nSkipping line 1606392: expected 28 fields, saw 29\\nSkipping line 1606403: expected 28 fields, saw 29\\nSkipping line 1606419: expected 28 fields, saw 29\\nSkipping line 1606473: expected 28 fields, saw 29\\nSkipping line 1606551: expected 28 fields, saw 29\\nSkipping line 1606569: expected 28 fields, saw 29\\nSkipping line 1606580: expected 28 fields, saw 29\\nSkipping line 1606587: expected 28 fields, saw 29\\nSkipping line 1606597: expected 28 fields, saw 29\\nSkipping line 1606606: expected 28 fields, saw 29\\nSkipping line 1606610: expected 28 fields, saw 29\\nSkipping line 1606615: expected 28 fields, saw 29\\nSkipping line 1606616: expected 28 fields, saw 29\\nSkipping line 1606621: expected 28 fields, saw 29\\nSkipping line 1606623: expected 28 fields, saw 29\\nSkipping line 1606625: expected 28 fields, saw 29\\nSkipping line 1606640: expected 28 fields, saw 29\\nSkipping line 1606682: expected 28 fields, saw 29\\nSkipping line 1606687: expected 28 fields, saw 29\\nSkipping line 1606700: expected 28 fields, saw 29\\nSkipping line 1606704: expected 28 fields, saw 29\\nSkipping line 1606707: expected 28 fields, saw 29\\nSkipping line 1606713: expected 28 fields, saw 29\\nSkipping line 1606717: expected 28 fields, saw 29\\nSkipping line 1606719: expected 28 fields, saw 29\\nSkipping line 1606723: expected 28 fields, saw 29\\nSkipping line 1606727: expected 28 fields, saw 29\\nSkipping line 1606730: expected 28 fields, saw 29\\nSkipping line 1606737: expected 28 fields, saw 29\\nSkipping line 1606748: expected 28 fields, saw 29\\nSkipping line 1606773: expected 28 fields, saw 29\\nSkipping line 1606779: expected 28 fields, saw 29\\nSkipping line 1606787: expected 28 fields, saw 29\\nSkipping line 1606789: expected 28 fields, saw 29\\nSkipping line 1606806: expected 28 fields, saw 29\\nSkipping line 1606817: expected 28 fields, saw 29\\nSkipping line 1606833: expected 28 fields, saw 29\\nSkipping line 1606840: expected 28 fields, saw 29\\nSkipping line 1606869: expected 28 fields, saw 29\\nSkipping line 1606876: expected 28 fields, saw 29\\nSkipping line 1606889: expected 28 fields, saw 29\\nSkipping line 1606891: expected 28 fields, saw 29\\nSkipping line 1606919: expected 28 fields, saw 29\\nSkipping line 1607074: expected 28 fields, saw 29\\nSkipping line 1607210: expected 28 fields, saw 29\\nSkipping line 1607211: expected 28 fields, saw 29\\nSkipping line 1607213: expected 28 fields, saw 29\\nSkipping line 1607215: expected 28 fields, saw 29\\nSkipping line 1607219: expected 28 fields, saw 29\\nSkipping line 1607233: expected 28 fields, saw 29\\nSkipping line 1607260: expected 28 fields, saw 29\\nSkipping line 1607263: expected 28 fields, saw 29\\nSkipping line 1607267: expected 28 fields, saw 29\\nSkipping line 1607273: expected 28 fields, saw 29\\nSkipping line 1607277: expected 28 fields, saw 29\\nSkipping line 1607294: expected 28 fields, saw 29\\nSkipping line 1607311: expected 28 fields, saw 29\\nSkipping line 1607326: expected 28 fields, saw 29\\nSkipping line 1607330: expected 28 fields, saw 29\\nSkipping line 1607340: expected 28 fields, saw 29\\nSkipping line 1607341: expected 28 fields, saw 29\\nSkipping line 1607343: expected 28 fields, saw 29\\nSkipping line 1607347: expected 28 fields, saw 29\\nSkipping line 1607393: expected 28 fields, saw 29\\nSkipping line 1607403: expected 28 fields, saw 29\\nSkipping line 1607426: expected 28 fields, saw 29\\nSkipping line 1607453: expected 28 fields, saw 29\\nSkipping line 1607460: expected 28 fields, saw 29\\nSkipping line 1607463: expected 28 fields, saw 29\\nSkipping line 1607502: expected 28 fields, saw 29\\nSkipping line 1607507: expected 28 fields, saw 29\\nSkipping line 1607524: expected 28 fields, saw 29\\nSkipping line 1607529: expected 28 fields, saw 29\\nSkipping line 1607540: expected 28 fields, saw 29\\nSkipping line 1607621: expected 28 fields, saw 29\\nSkipping line 1607623: expected 28 fields, saw 29\\nSkipping line 1607631: expected 28 fields, saw 29\\nSkipping line 1607633: expected 28 fields, saw 29\\nSkipping line 1607686: expected 28 fields, saw 29\\nSkipping line 1607716: expected 28 fields, saw 29\\nSkipping line 1607743: expected 28 fields, saw 29\\n'\n",
      "b'Skipping line 1658554: expected 28 fields, saw 29\\nSkipping line 1658556: expected 28 fields, saw 29\\nSkipping line 1658560: expected 28 fields, saw 29\\nSkipping line 1658561: expected 28 fields, saw 29\\nSkipping line 1658707: expected 28 fields, saw 29\\nSkipping line 1658755: expected 28 fields, saw 29\\nSkipping line 1658769: expected 28 fields, saw 29\\nSkipping line 1658843: expected 28 fields, saw 29\\nSkipping line 1658955: expected 28 fields, saw 29\\nSkipping line 1658995: expected 28 fields, saw 29\\nSkipping line 1659029: expected 28 fields, saw 29\\nSkipping line 1659051: expected 28 fields, saw 29\\nSkipping line 1659059: expected 28 fields, saw 29\\nSkipping line 1659069: expected 28 fields, saw 29\\nSkipping line 1659071: expected 28 fields, saw 29\\nSkipping line 1659094: expected 28 fields, saw 29\\nSkipping line 1659097: expected 28 fields, saw 29\\nSkipping line 1659104: expected 28 fields, saw 29\\nSkipping line 1659120: expected 28 fields, saw 29\\nSkipping line 1659128: expected 28 fields, saw 29\\nSkipping line 1659129: expected 28 fields, saw 29\\nSkipping line 1659131: expected 28 fields, saw 29\\nSkipping line 1659144: expected 28 fields, saw 29\\nSkipping line 1659177: expected 28 fields, saw 29\\nSkipping line 1659204: expected 28 fields, saw 29\\nSkipping line 1659211: expected 28 fields, saw 29\\nSkipping line 1659242: expected 28 fields, saw 29\\nSkipping line 1659347: expected 28 fields, saw 29\\nSkipping line 1659362: expected 28 fields, saw 29\\nSkipping line 1659363: expected 28 fields, saw 29\\nSkipping line 1659411: expected 28 fields, saw 29\\nSkipping line 1659446: expected 28 fields, saw 29\\nSkipping line 1659503: expected 28 fields, saw 29\\nSkipping line 1659520: expected 28 fields, saw 29\\nSkipping line 1659527: expected 28 fields, saw 29\\nSkipping line 1659532: expected 28 fields, saw 29\\nSkipping line 1659557: expected 28 fields, saw 29\\nSkipping line 1659902: expected 28 fields, saw 29\\nSkipping line 1660294: expected 28 fields, saw 29\\nSkipping line 1660387: expected 28 fields, saw 29\\nSkipping line 1660415: expected 28 fields, saw 29\\nSkipping line 1660451: expected 28 fields, saw 29\\nSkipping line 1660505: expected 28 fields, saw 29\\nSkipping line 1660548: expected 28 fields, saw 29\\nSkipping line 1660558: expected 28 fields, saw 29\\nSkipping line 1660566: expected 28 fields, saw 29\\nSkipping line 1660595: expected 28 fields, saw 29\\nSkipping line 1660788: expected 28 fields, saw 29\\nSkipping line 1660870: expected 28 fields, saw 29\\nSkipping line 1660952: expected 28 fields, saw 29\\nSkipping line 1661018: expected 28 fields, saw 29\\nSkipping line 1661088: expected 28 fields, saw 29\\nSkipping line 1661134: expected 28 fields, saw 29\\nSkipping line 1661140: expected 28 fields, saw 29\\nSkipping line 1661179: expected 28 fields, saw 29\\nSkipping line 1661182: expected 28 fields, saw 29\\nSkipping line 1661226: expected 28 fields, saw 29\\nSkipping line 1661254: expected 28 fields, saw 29\\nSkipping line 1661261: expected 28 fields, saw 29\\nSkipping line 1661396: expected 28 fields, saw 29\\nSkipping line 1661454: expected 28 fields, saw 29\\nSkipping line 1661535: expected 28 fields, saw 29\\nSkipping line 1661542: expected 28 fields, saw 29\\nSkipping line 1661552: expected 28 fields, saw 29\\nSkipping line 1661560: expected 28 fields, saw 29\\nSkipping line 1661619: expected 28 fields, saw 29\\nSkipping line 1661688: expected 28 fields, saw 29\\nSkipping line 1661703: expected 28 fields, saw 29\\nSkipping line 1661865: expected 28 fields, saw 29\\nSkipping line 1661928: expected 28 fields, saw 29\\nSkipping line 1661970: expected 28 fields, saw 29\\nSkipping line 1661995: expected 28 fields, saw 29\\nSkipping line 1662055: expected 28 fields, saw 29\\nSkipping line 1662060: expected 28 fields, saw 29\\nSkipping line 1662105: expected 28 fields, saw 29\\nSkipping line 1662225: expected 28 fields, saw 29\\nSkipping line 1662243: expected 28 fields, saw 29\\nSkipping line 1662262: expected 28 fields, saw 29\\nSkipping line 1662281: expected 28 fields, saw 29\\nSkipping line 1662322: expected 28 fields, saw 29\\nSkipping line 1662324: expected 28 fields, saw 29\\nSkipping line 1662410: expected 28 fields, saw 29\\nSkipping line 1662457: expected 28 fields, saw 29\\nSkipping line 1662471: expected 28 fields, saw 29\\nSkipping line 1662494: expected 28 fields, saw 29\\nSkipping line 1662508: expected 28 fields, saw 29\\nSkipping line 1662523: expected 28 fields, saw 29\\nSkipping line 1662581: expected 28 fields, saw 29\\nSkipping line 1662586: expected 28 fields, saw 29\\nSkipping line 1662603: expected 28 fields, saw 29\\nSkipping line 1662611: expected 28 fields, saw 29\\nSkipping line 1662616: expected 28 fields, saw 29\\nSkipping line 1662618: expected 28 fields, saw 29\\nSkipping line 1662635: expected 28 fields, saw 29\\nSkipping line 1662658: expected 28 fields, saw 29\\nSkipping line 1662667: expected 28 fields, saw 29\\nSkipping line 1662673: expected 28 fields, saw 29\\nSkipping line 1662680: expected 28 fields, saw 29\\nSkipping line 1662682: expected 28 fields, saw 29\\nSkipping line 1662717: expected 28 fields, saw 29\\nSkipping line 1662721: expected 28 fields, saw 29\\nSkipping line 1662724: expected 28 fields, saw 29\\nSkipping line 1662730: expected 28 fields, saw 29\\nSkipping line 1662754: expected 28 fields, saw 29\\nSkipping line 1662761: expected 28 fields, saw 29\\nSkipping line 1662772: expected 28 fields, saw 29\\nSkipping line 1662775: expected 28 fields, saw 29\\nSkipping line 1662784: expected 28 fields, saw 29\\nSkipping line 1662789: expected 28 fields, saw 29\\nSkipping line 1662798: expected 28 fields, saw 29\\nSkipping line 1662808: expected 28 fields, saw 29\\nSkipping line 1662811: expected 28 fields, saw 29\\nSkipping line 1662823: expected 28 fields, saw 29\\nSkipping line 1662835: expected 28 fields, saw 29\\nSkipping line 1662853: expected 28 fields, saw 29\\nSkipping line 1662854: expected 28 fields, saw 29\\nSkipping line 1662869: expected 28 fields, saw 29\\nSkipping line 1662874: expected 28 fields, saw 29\\nSkipping line 1662906: expected 28 fields, saw 29\\nSkipping line 1662924: expected 28 fields, saw 29\\nSkipping line 1662926: expected 28 fields, saw 29\\nSkipping line 1662956: expected 28 fields, saw 29\\nSkipping line 1663228: expected 28 fields, saw 29\\nSkipping line 1663233: expected 28 fields, saw 29\\nSkipping line 1663234: expected 28 fields, saw 29\\nSkipping line 1663246: expected 28 fields, saw 29\\nSkipping line 1663256: expected 28 fields, saw 29\\nSkipping line 1663263: expected 28 fields, saw 29\\nSkipping line 1663269: expected 28 fields, saw 29\\nSkipping line 1663312: expected 28 fields, saw 29\\nSkipping line 1663320: expected 28 fields, saw 29\\nSkipping line 1663322: expected 28 fields, saw 29\\nSkipping line 1663325: expected 28 fields, saw 29\\nSkipping line 1663330: expected 28 fields, saw 29\\nSkipping line 1663331: expected 28 fields, saw 29\\nSkipping line 1663333: expected 28 fields, saw 29\\nSkipping line 1663351: expected 28 fields, saw 29\\nSkipping line 1663372: expected 28 fields, saw 29\\nSkipping line 1663384: expected 28 fields, saw 29\\nSkipping line 1663401: expected 28 fields, saw 29\\nSkipping line 1663406: expected 28 fields, saw 29\\nSkipping line 1663412: expected 28 fields, saw 29\\nSkipping line 1663422: expected 28 fields, saw 29\\nSkipping line 1663426: expected 28 fields, saw 29\\nSkipping line 1663433: expected 28 fields, saw 29\\nSkipping line 1663434: expected 28 fields, saw 29\\nSkipping line 1663441: expected 28 fields, saw 29\\nSkipping line 1663491: expected 28 fields, saw 29\\nSkipping line 1663492: expected 28 fields, saw 29\\nSkipping line 1663494: expected 28 fields, saw 29\\nSkipping line 1663520: expected 28 fields, saw 29\\nSkipping line 1663545: expected 28 fields, saw 29\\nSkipping line 1663555: expected 28 fields, saw 29\\nSkipping line 1663559: expected 28 fields, saw 29\\nSkipping line 1663562: expected 28 fields, saw 29\\nSkipping line 1663564: expected 28 fields, saw 29\\nSkipping line 1663571: expected 28 fields, saw 29\\nSkipping line 1663579: expected 28 fields, saw 29\\nSkipping line 1663676: expected 28 fields, saw 29\\nSkipping line 1663693: expected 28 fields, saw 29\\nSkipping line 1663711: expected 28 fields, saw 29\\nSkipping line 1663792: expected 28 fields, saw 29\\nSkipping line 1663844: expected 28 fields, saw 29\\n'\n",
      "b'Skipping line 1681530: expected 28 fields, saw 33\\nSkipping line 1681546: expected 28 fields, saw 33\\nSkipping line 1681558: expected 28 fields, saw 33\\nSkipping line 1681593: expected 28 fields, saw 33\\nSkipping line 1681617: expected 28 fields, saw 33\\nSkipping line 1681667: expected 28 fields, saw 33\\nSkipping line 1681738: expected 28 fields, saw 33\\n'\n",
      "b'Skipping line 1746805: expected 28 fields, saw 29\\n'\n",
      "b'Skipping line 1844267: expected 28 fields, saw 33\\nSkipping line 1850715: expected 28 fields, saw 29\\nSkipping line 1850725: expected 28 fields, saw 29\\nSkipping line 1850752: expected 28 fields, saw 29\\nSkipping line 1850753: expected 28 fields, saw 29\\nSkipping line 1850775: expected 28 fields, saw 29\\nSkipping line 1850778: expected 28 fields, saw 29\\nSkipping line 1850794: expected 28 fields, saw 29\\nSkipping line 1850823: expected 28 fields, saw 29\\nSkipping line 1850833: expected 28 fields, saw 29\\nSkipping line 1850842: expected 28 fields, saw 29\\nSkipping line 1850912: expected 28 fields, saw 29\\nSkipping line 1850914: expected 28 fields, saw 29\\nSkipping line 1850950: expected 28 fields, saw 29\\nSkipping line 1850952: expected 28 fields, saw 29\\nSkipping line 1850955: expected 28 fields, saw 29\\nSkipping line 1850959: expected 28 fields, saw 29\\nSkipping line 1850984: expected 28 fields, saw 29\\nSkipping line 1851031: expected 28 fields, saw 29\\nSkipping line 1851042: expected 28 fields, saw 29\\nSkipping line 1851050: expected 28 fields, saw 29\\nSkipping line 1851056: expected 28 fields, saw 29\\nSkipping line 1851070: expected 28 fields, saw 29\\nSkipping line 1851098: expected 28 fields, saw 29\\nSkipping line 1851120: expected 28 fields, saw 29\\nSkipping line 1851136: expected 28 fields, saw 29\\nSkipping line 1851137: expected 28 fields, saw 29\\nSkipping line 1851138: expected 28 fields, saw 29\\nSkipping line 1851186: expected 28 fields, saw 29\\nSkipping line 1851216: expected 28 fields, saw 29\\nSkipping line 1851231: expected 28 fields, saw 29\\nSkipping line 1851244: expected 28 fields, saw 29\\nSkipping line 1851277: expected 28 fields, saw 29\\nSkipping line 1851288: expected 28 fields, saw 29\\nSkipping line 1851295: expected 28 fields, saw 29\\nSkipping line 1851301: expected 28 fields, saw 29\\nSkipping line 1851304: expected 28 fields, saw 29\\nSkipping line 1851311: expected 28 fields, saw 29\\nSkipping line 1851322: expected 28 fields, saw 29\\nSkipping line 1851323: expected 28 fields, saw 29\\nSkipping line 1851326: expected 28 fields, saw 29\\nSkipping line 1851331: expected 28 fields, saw 29\\nSkipping line 1851338: expected 28 fields, saw 29\\nSkipping line 1851529: expected 28 fields, saw 29\\nSkipping line 1851535: expected 28 fields, saw 29\\nSkipping line 1851564: expected 28 fields, saw 29\\nSkipping line 1851694: expected 28 fields, saw 29\\nSkipping line 1851704: expected 28 fields, saw 29\\nSkipping line 1851734: expected 28 fields, saw 29\\nSkipping line 1852207: expected 28 fields, saw 29\\nSkipping line 1852264: expected 28 fields, saw 29\\nSkipping line 1852293: expected 28 fields, saw 29\\nSkipping line 1852314: expected 28 fields, saw 29\\nSkipping line 1852336: expected 28 fields, saw 29\\nSkipping line 1852343: expected 28 fields, saw 29\\nSkipping line 1852346: expected 28 fields, saw 29\\nSkipping line 1852402: expected 28 fields, saw 29\\nSkipping line 1852552: expected 28 fields, saw 29\\nSkipping line 1852631: expected 28 fields, saw 29\\nSkipping line 1852636: expected 28 fields, saw 29\\nSkipping line 1852675: expected 28 fields, saw 29\\nSkipping line 1852742: expected 28 fields, saw 29\\nSkipping line 1852751: expected 28 fields, saw 29\\nSkipping line 1852789: expected 28 fields, saw 29\\nSkipping line 1852824: expected 28 fields, saw 29\\nSkipping line 1852871: expected 28 fields, saw 29\\nSkipping line 1852916: expected 28 fields, saw 29\\nSkipping line 1852964: expected 28 fields, saw 29\\nSkipping line 1852983: expected 28 fields, saw 29\\nSkipping line 1853087: expected 28 fields, saw 29\\nSkipping line 1853123: expected 28 fields, saw 29\\nSkipping line 1853195: expected 28 fields, saw 29\\nSkipping line 1853273: expected 28 fields, saw 29\\nSkipping line 1853371: expected 28 fields, saw 29\\nSkipping line 1853461: expected 28 fields, saw 29\\nSkipping line 1853631: expected 28 fields, saw 29\\nSkipping line 1853678: expected 28 fields, saw 29\\nSkipping line 1853742: expected 28 fields, saw 29\\nSkipping line 1853783: expected 28 fields, saw 29\\nSkipping line 1853814: expected 28 fields, saw 29\\nSkipping line 1853842: expected 28 fields, saw 29\\nSkipping line 1853970: expected 28 fields, saw 29\\nSkipping line 1853992: expected 28 fields, saw 29\\nSkipping line 1854017: expected 28 fields, saw 29\\nSkipping line 1854019: expected 28 fields, saw 29\\nSkipping line 1854311: expected 28 fields, saw 29\\nSkipping line 1854455: expected 28 fields, saw 29\\nSkipping line 1854490: expected 28 fields, saw 29\\nSkipping line 1854592: expected 28 fields, saw 29\\nSkipping line 1854598: expected 28 fields, saw 29\\nSkipping line 1854605: expected 28 fields, saw 29\\nSkipping line 1854643: expected 28 fields, saw 29\\nSkipping line 1854683: expected 28 fields, saw 29\\nSkipping line 1854721: expected 28 fields, saw 29\\nSkipping line 1854727: expected 28 fields, saw 29\\nSkipping line 1854730: expected 28 fields, saw 29\\nSkipping line 1854736: expected 28 fields, saw 29\\nSkipping line 1854743: expected 28 fields, saw 29\\nSkipping line 1854744: expected 28 fields, saw 29\\nSkipping line 1854749: expected 28 fields, saw 29\\nSkipping line 1854757: expected 28 fields, saw 29\\nSkipping line 1854765: expected 28 fields, saw 29\\nSkipping line 1854771: expected 28 fields, saw 29\\nSkipping line 1854773: expected 28 fields, saw 29\\nSkipping line 1854776: expected 28 fields, saw 29\\nSkipping line 1854780: expected 28 fields, saw 29\\nSkipping line 1854789: expected 28 fields, saw 29\\nSkipping line 1854791: expected 28 fields, saw 29\\nSkipping line 1854792: expected 28 fields, saw 29\\nSkipping line 1854796: expected 28 fields, saw 29\\nSkipping line 1854801: expected 28 fields, saw 29\\nSkipping line 1854804: expected 28 fields, saw 29\\nSkipping line 1854831: expected 28 fields, saw 29\\nSkipping line 1854832: expected 28 fields, saw 29\\nSkipping line 1854843: expected 28 fields, saw 29\\nSkipping line 1854850: expected 28 fields, saw 29\\nSkipping line 1854855: expected 28 fields, saw 29\\nSkipping line 1854857: expected 28 fields, saw 29\\nSkipping line 1854866: expected 28 fields, saw 29\\nSkipping line 1854887: expected 28 fields, saw 29\\nSkipping line 1854891: expected 28 fields, saw 29\\nSkipping line 1854892: expected 28 fields, saw 29\\nSkipping line 1854899: expected 28 fields, saw 29\\nSkipping line 1854902: expected 28 fields, saw 29\\nSkipping line 1854913: expected 28 fields, saw 29\\nSkipping line 1854928: expected 28 fields, saw 29\\nSkipping line 1854930: expected 28 fields, saw 29\\nSkipping line 1854934: expected 28 fields, saw 29\\nSkipping line 1854938: expected 28 fields, saw 29\\nSkipping line 1854939: expected 28 fields, saw 29\\nSkipping line 1854943: expected 28 fields, saw 29\\nSkipping line 1854945: expected 28 fields, saw 29\\nSkipping line 1854955: expected 28 fields, saw 29\\nSkipping line 1854970: expected 28 fields, saw 29\\nSkipping line 1854979: expected 28 fields, saw 29\\nSkipping line 1854986: expected 28 fields, saw 29\\nSkipping line 1854996: expected 28 fields, saw 29\\nSkipping line 1855003: expected 28 fields, saw 29\\nSkipping line 1855005: expected 28 fields, saw 29\\nSkipping line 1855006: expected 28 fields, saw 29\\nSkipping line 1855009: expected 28 fields, saw 29\\nSkipping line 1855014: expected 28 fields, saw 29\\nSkipping line 1855018: expected 28 fields, saw 29\\nSkipping line 1855025: expected 28 fields, saw 29\\nSkipping line 1855066: expected 28 fields, saw 29\\nSkipping line 1855115: expected 28 fields, saw 29\\nSkipping line 1855154: expected 28 fields, saw 29\\nSkipping line 1855307: expected 28 fields, saw 29\\nSkipping line 1855337: expected 28 fields, saw 29\\nSkipping line 1855349: expected 28 fields, saw 29\\nSkipping line 1855357: expected 28 fields, saw 29\\nSkipping line 1855379: expected 28 fields, saw 29\\nSkipping line 1855397: expected 28 fields, saw 29\\nSkipping line 1855406: expected 28 fields, saw 29\\nSkipping line 1855409: expected 28 fields, saw 29\\nSkipping line 1855420: expected 28 fields, saw 29\\nSkipping line 1855432: expected 28 fields, saw 29\\nSkipping line 1855441: expected 28 fields, saw 29\\nSkipping line 1855449: expected 28 fields, saw 29\\nSkipping line 1855459: expected 28 fields, saw 29\\nSkipping line 1855460: expected 28 fields, saw 29\\nSkipping line 1855479: expected 28 fields, saw 29\\nSkipping line 1855495: expected 28 fields, saw 29\\nSkipping line 1855514: expected 28 fields, saw 29\\nSkipping line 1855520: expected 28 fields, saw 29\\nSkipping line 1855521: expected 28 fields, saw 29\\nSkipping line 1855526: expected 28 fields, saw 29\\nSkipping line 1855527: expected 28 fields, saw 29\\nSkipping line 1855633: expected 28 fields, saw 29\\nSkipping line 1855657: expected 28 fields, saw 29\\nSkipping line 1855671: expected 28 fields, saw 29\\nSkipping line 1855694: expected 28 fields, saw 29\\nSkipping line 1855706: expected 28 fields, saw 29\\nSkipping line 1855708: expected 28 fields, saw 29\\nSkipping line 1855721: expected 28 fields, saw 29\\nSkipping line 1855747: expected 28 fields, saw 29\\nSkipping line 1855751: expected 28 fields, saw 29\\nSkipping line 1855785: expected 28 fields, saw 29\\nSkipping line 1855786: expected 28 fields, saw 29\\nSkipping line 1855790: expected 28 fields, saw 29\\nSkipping line 1855792: expected 28 fields, saw 29\\nSkipping line 1855796: expected 28 fields, saw 29\\nSkipping line 1855806: expected 28 fields, saw 29\\nSkipping line 1855838: expected 28 fields, saw 29\\nSkipping line 1863975: expected 28 fields, saw 33\\n'\n",
      "b'Skipping line 1897698: expected 28 fields, saw 29\\n'\n",
      "b'Skipping line 1977617: expected 28 fields, saw 29\\n'\n",
      "b'Skipping line 2021465: expected 28 fields, saw 33\\nSkipping line 2021587: expected 28 fields, saw 33\\nSkipping line 2021733: expected 28 fields, saw 33\\nSkipping line 2021759: expected 28 fields, saw 33\\nSkipping line 2021877: expected 28 fields, saw 33\\n'\n",
      "b'Skipping line 2140716: expected 28 fields, saw 33\\nSkipping line 2140754: expected 28 fields, saw 33\\nSkipping line 2140787: expected 28 fields, saw 33\\nSkipping line 2140849: expected 28 fields, saw 33\\nSkipping line 2140865: expected 28 fields, saw 33\\nSkipping line 2140877: expected 28 fields, saw 33\\nSkipping line 2140883: expected 28 fields, saw 33\\n'\n",
      "b'Skipping line 2363328: expected 28 fields, saw 33\\nSkipping line 2363475: expected 28 fields, saw 33\\n'\n",
      "b'Skipping line 2417926: expected 28 fields, saw 29\\nSkipping line 2418228: expected 28 fields, saw 29\\nSkipping line 2418340: expected 28 fields, saw 29\\nSkipping line 2418347: expected 28 fields, saw 29\\nSkipping line 2418350: expected 28 fields, saw 29\\nSkipping line 2418656: expected 28 fields, saw 29\\nSkipping line 2418700: expected 28 fields, saw 29\\nSkipping line 2418792: expected 28 fields, saw 29\\nSkipping line 2418842: expected 28 fields, saw 29\\nSkipping line 2418858: expected 28 fields, saw 29\\nSkipping line 2418994: expected 28 fields, saw 29\\nSkipping line 2418999: expected 28 fields, saw 29\\nSkipping line 2419098: expected 28 fields, saw 29\\nSkipping line 2419100: expected 28 fields, saw 29\\nSkipping line 2419104: expected 28 fields, saw 29\\nSkipping line 2419119: expected 28 fields, saw 29\\nSkipping line 2419147: expected 28 fields, saw 29\\nSkipping line 2419148: expected 28 fields, saw 29\\nSkipping line 2419159: expected 28 fields, saw 29\\nSkipping line 2419160: expected 28 fields, saw 29\\nSkipping line 2419173: expected 28 fields, saw 29\\nSkipping line 2419202: expected 28 fields, saw 29\\nSkipping line 2419203: expected 28 fields, saw 29\\nSkipping line 2419210: expected 28 fields, saw 29\\nSkipping line 2419216: expected 28 fields, saw 29\\nSkipping line 2419236: expected 28 fields, saw 29\\nSkipping line 2419260: expected 28 fields, saw 29\\nSkipping line 2419263: expected 28 fields, saw 29\\nSkipping line 2419264: expected 28 fields, saw 29\\nSkipping line 2419266: expected 28 fields, saw 29\\nSkipping line 2419276: expected 28 fields, saw 29\\nSkipping line 2419288: expected 28 fields, saw 29\\nSkipping line 2419294: expected 28 fields, saw 29\\nSkipping line 2419303: expected 28 fields, saw 29\\nSkipping line 2419310: expected 28 fields, saw 29\\nSkipping line 2419320: expected 28 fields, saw 29\\nSkipping line 2419323: expected 28 fields, saw 29\\nSkipping line 2419376: expected 28 fields, saw 29\\nSkipping line 2419387: expected 28 fields, saw 29\\nSkipping line 2419405: expected 28 fields, saw 29\\nSkipping line 2419413: expected 28 fields, saw 29\\nSkipping line 2419432: expected 28 fields, saw 29\\nSkipping line 2419434: expected 28 fields, saw 29\\nSkipping line 2419484: expected 28 fields, saw 29\\nSkipping line 2419493: expected 28 fields, saw 29\\nSkipping line 2419494: expected 28 fields, saw 29\\nSkipping line 2419495: expected 28 fields, saw 29\\nSkipping line 2419623: expected 28 fields, saw 29\\nSkipping line 2419729: expected 28 fields, saw 29\\nSkipping line 2419797: expected 28 fields, saw 29\\nSkipping line 2419883: expected 28 fields, saw 29\\nSkipping line 2419885: expected 28 fields, saw 29\\nSkipping line 2419886: expected 28 fields, saw 29\\nSkipping line 2420105: expected 28 fields, saw 29\\nSkipping line 2420253: expected 28 fields, saw 29\\nSkipping line 2420344: expected 28 fields, saw 29\\nSkipping line 2420375: expected 28 fields, saw 29\\nSkipping line 2420386: expected 28 fields, saw 29\\nSkipping line 2420400: expected 28 fields, saw 29\\nSkipping line 2420423: expected 28 fields, saw 29\\nSkipping line 2420686: expected 28 fields, saw 29\\nSkipping line 2420691: expected 28 fields, saw 29\\nSkipping line 2420718: expected 28 fields, saw 29\\nSkipping line 2420751: expected 28 fields, saw 29\\n'\n",
      "b'Skipping line 2852610: expected 28 fields, saw 29\\nSkipping line 2852630: expected 28 fields, saw 29\\nSkipping line 2852632: expected 28 fields, saw 29\\n'\n",
      "b'Skipping line 2918353: expected 28 fields, saw 29\\nSkipping line 2918437: expected 28 fields, saw 29\\nSkipping line 2918556: expected 28 fields, saw 29\\nSkipping line 2918573: expected 28 fields, saw 29\\nSkipping line 2918653: expected 28 fields, saw 29\\nSkipping line 2918665: expected 28 fields, saw 29\\nSkipping line 2918682: expected 28 fields, saw 29\\nSkipping line 2919086: expected 28 fields, saw 29\\nSkipping line 2919153: expected 28 fields, saw 29\\nSkipping line 2919193: expected 28 fields, saw 29\\nSkipping line 2919205: expected 28 fields, saw 29\\nSkipping line 2919222: expected 28 fields, saw 29\\nSkipping line 2919228: expected 28 fields, saw 29\\nSkipping line 2919321: expected 28 fields, saw 29\\nSkipping line 2919327: expected 28 fields, saw 29\\nSkipping line 2919330: expected 28 fields, saw 29\\nSkipping line 2919333: expected 28 fields, saw 29\\nSkipping line 2919461: expected 28 fields, saw 29\\nSkipping line 2919573: expected 28 fields, saw 29\\nSkipping line 2919580: expected 28 fields, saw 29\\nSkipping line 2919581: expected 28 fields, saw 29\\nSkipping line 2919590: expected 28 fields, saw 29\\nSkipping line 2919613: expected 28 fields, saw 29\\nSkipping line 2919674: expected 28 fields, saw 29\\nSkipping line 2919677: expected 28 fields, saw 29\\nSkipping line 2919678: expected 28 fields, saw 29\\nSkipping line 2919680: expected 28 fields, saw 29\\nSkipping line 2919691: expected 28 fields, saw 29\\nSkipping line 2919700: expected 28 fields, saw 29\\nSkipping line 2919702: expected 28 fields, saw 29\\nSkipping line 2919710: expected 28 fields, saw 29\\nSkipping line 2919711: expected 28 fields, saw 29\\nSkipping line 2919719: expected 28 fields, saw 29\\nSkipping line 2919748: expected 28 fields, saw 29\\nSkipping line 2919773: expected 28 fields, saw 29\\nSkipping line 2919787: expected 28 fields, saw 29\\nSkipping line 2919801: expected 28 fields, saw 29\\nSkipping line 2919802: expected 28 fields, saw 29\\nSkipping line 2919803: expected 28 fields, saw 29\\nSkipping line 2919814: expected 28 fields, saw 29\\nSkipping line 2919818: expected 28 fields, saw 29\\nSkipping line 2919819: expected 28 fields, saw 29\\nSkipping line 2919827: expected 28 fields, saw 29\\nSkipping line 2919828: expected 28 fields, saw 29\\nSkipping line 2919844: expected 28 fields, saw 29\\nSkipping line 2919943: expected 28 fields, saw 29\\nSkipping line 2919990: expected 28 fields, saw 29\\nSkipping line 2920014: expected 28 fields, saw 29\\nSkipping line 2920037: expected 28 fields, saw 29\\nSkipping line 2920120: expected 28 fields, saw 29\\nSkipping line 2920163: expected 28 fields, saw 29\\nSkipping line 2920253: expected 28 fields, saw 29\\nSkipping line 2920254: expected 28 fields, saw 29\\nSkipping line 2920262: expected 28 fields, saw 29\\nSkipping line 2920275: expected 28 fields, saw 29\\nSkipping line 2920524: expected 28 fields, saw 29\\nSkipping line 2920734: expected 28 fields, saw 29\\nSkipping line 2920802: expected 28 fields, saw 29\\nSkipping line 2920974: expected 28 fields, saw 29\\nSkipping line 2921010: expected 28 fields, saw 29\\nSkipping line 2921020: expected 28 fields, saw 29\\nSkipping line 2921061: expected 28 fields, saw 29\\nSkipping line 2921065: expected 28 fields, saw 29\\nSkipping line 2921077: expected 28 fields, saw 29\\nSkipping line 2921124: expected 28 fields, saw 29\\nSkipping line 2921268: expected 28 fields, saw 29\\nSkipping line 2921362: expected 28 fields, saw 29\\n'\n",
      "b'Skipping line 2966773: expected 28 fields, saw 29\\n'\n"
     ]
    }
   ],
   "source": [
    "AIS_extract_fiji = pd.read_csv('Lautoka AIS data last 12 months.csv', error_bad_lines=False)"
   ]
  },
  {
   "cell_type": "code",
   "execution_count": 4,
   "metadata": {},
   "outputs": [
    {
     "data": {
      "text/html": [
       "<div>\n",
       "<style scoped>\n",
       "    .dataframe tbody tr th:only-of-type {\n",
       "        vertical-align: middle;\n",
       "    }\n",
       "\n",
       "    .dataframe tbody tr th {\n",
       "        vertical-align: top;\n",
       "    }\n",
       "\n",
       "    .dataframe thead th {\n",
       "        text-align: right;\n",
       "    }\n",
       "</style>\n",
       "<table border=\"1\" class=\"dataframe\">\n",
       "  <thead>\n",
       "    <tr style=\"text-align: right;\">\n",
       "      <th></th>\n",
       "      <th>dtg</th>\n",
       "      <th>mmsi</th>\n",
       "      <th>vessel_name</th>\n",
       "      <th>callsign</th>\n",
       "      <th>vessel_type_code</th>\n",
       "      <th>vessel_class</th>\n",
       "      <th>length</th>\n",
       "      <th>width</th>\n",
       "      <th>flag_country</th>\n",
       "      <th>flag_code</th>\n",
       "      <th>...</th>\n",
       "      <th>eta</th>\n",
       "      <th>draught</th>\n",
       "      <th>sog</th>\n",
       "      <th>cog</th>\n",
       "      <th>rot</th>\n",
       "      <th>heading</th>\n",
       "      <th>nav_status</th>\n",
       "      <th>nav_status_code</th>\n",
       "      <th>source</th>\n",
       "      <th>message_type</th>\n",
       "    </tr>\n",
       "  </thead>\n",
       "  <tbody>\n",
       "    <tr>\n",
       "      <td>0</td>\n",
       "      <td>2020-03-15T09:22:49.000Z</td>\n",
       "      <td>636016801</td>\n",
       "      <td>HIGH TRUST</td>\n",
       "      <td>D5HW6</td>\n",
       "      <td>80.0</td>\n",
       "      <td>A</td>\n",
       "      <td>183.0</td>\n",
       "      <td>32.0</td>\n",
       "      <td>Liberia</td>\n",
       "      <td>636.0</td>\n",
       "      <td>...</td>\n",
       "      <td>3150800</td>\n",
       "      <td>10.7</td>\n",
       "      <td>0.1</td>\n",
       "      <td>304.1</td>\n",
       "      <td>0.0</td>\n",
       "      <td>17.0</td>\n",
       "      <td>At Anchor</td>\n",
       "      <td>1</td>\n",
       "      <td>S-AIS</td>\n",
       "      <td>3</td>\n",
       "    </tr>\n",
       "    <tr>\n",
       "      <td>1</td>\n",
       "      <td>2020-03-15T09:25:49.000Z</td>\n",
       "      <td>636016801</td>\n",
       "      <td>HIGH TRUST</td>\n",
       "      <td>D5HW6</td>\n",
       "      <td>80.0</td>\n",
       "      <td>A</td>\n",
       "      <td>183.0</td>\n",
       "      <td>32.0</td>\n",
       "      <td>Liberia</td>\n",
       "      <td>636.0</td>\n",
       "      <td>...</td>\n",
       "      <td>3150800</td>\n",
       "      <td>10.7</td>\n",
       "      <td>0.1</td>\n",
       "      <td>291.6</td>\n",
       "      <td>0.0</td>\n",
       "      <td>20.0</td>\n",
       "      <td>At Anchor</td>\n",
       "      <td>1</td>\n",
       "      <td>S-AIS</td>\n",
       "      <td>3</td>\n",
       "    </tr>\n",
       "    <tr>\n",
       "      <td>2</td>\n",
       "      <td>2020-03-15T09:26:13.000Z</td>\n",
       "      <td>520324000</td>\n",
       "      <td>WICKHAM</td>\n",
       "      <td>3DPC</td>\n",
       "      <td>52.0</td>\n",
       "      <td>A</td>\n",
       "      <td>37.0</td>\n",
       "      <td>11.0</td>\n",
       "      <td>Fiji</td>\n",
       "      <td>520.0</td>\n",
       "      <td>...</td>\n",
       "      <td>3141945</td>\n",
       "      <td>5.3</td>\n",
       "      <td>0.0</td>\n",
       "      <td>0.0</td>\n",
       "      <td>0.0</td>\n",
       "      <td>0.0</td>\n",
       "      <td>Moored</td>\n",
       "      <td>5</td>\n",
       "      <td>S-AIS</td>\n",
       "      <td>3</td>\n",
       "    </tr>\n",
       "    <tr>\n",
       "      <td>3</td>\n",
       "      <td>2020-03-15T09:31:08.000Z</td>\n",
       "      <td>356964000</td>\n",
       "      <td>LATITUDE</td>\n",
       "      <td>HP9651</td>\n",
       "      <td>37.0</td>\n",
       "      <td>A</td>\n",
       "      <td>53.0</td>\n",
       "      <td>11.0</td>\n",
       "      <td>Panama</td>\n",
       "      <td>356.0</td>\n",
       "      <td>...</td>\n",
       "      <td>1050600</td>\n",
       "      <td>3.0</td>\n",
       "      <td>0.0</td>\n",
       "      <td>331.0</td>\n",
       "      <td>0.0</td>\n",
       "      <td>0.0</td>\n",
       "      <td>At Anchor</td>\n",
       "      <td>1</td>\n",
       "      <td>S-AIS</td>\n",
       "      <td>27</td>\n",
       "    </tr>\n",
       "    <tr>\n",
       "      <td>4</td>\n",
       "      <td>2020-03-15T09:34:08.000Z</td>\n",
       "      <td>356964000</td>\n",
       "      <td>LATITUDE</td>\n",
       "      <td>HP9651</td>\n",
       "      <td>37.0</td>\n",
       "      <td>A</td>\n",
       "      <td>53.0</td>\n",
       "      <td>11.0</td>\n",
       "      <td>Panama</td>\n",
       "      <td>356.0</td>\n",
       "      <td>...</td>\n",
       "      <td>1050600</td>\n",
       "      <td>3.0</td>\n",
       "      <td>0.0</td>\n",
       "      <td>140.0</td>\n",
       "      <td>0.0</td>\n",
       "      <td>0.0</td>\n",
       "      <td>At Anchor</td>\n",
       "      <td>1</td>\n",
       "      <td>S-AIS</td>\n",
       "      <td>27</td>\n",
       "    </tr>\n",
       "  </tbody>\n",
       "</table>\n",
       "<p>5 rows × 28 columns</p>\n",
       "</div>"
      ],
      "text/plain": [
       "                        dtg       mmsi vessel_name callsign  vessel_type_code  \\\n",
       "0  2020-03-15T09:22:49.000Z  636016801  HIGH TRUST    D5HW6              80.0   \n",
       "1  2020-03-15T09:25:49.000Z  636016801  HIGH TRUST    D5HW6              80.0   \n",
       "2  2020-03-15T09:26:13.000Z  520324000     WICKHAM     3DPC              52.0   \n",
       "3  2020-03-15T09:31:08.000Z  356964000    LATITUDE   HP9651              37.0   \n",
       "4  2020-03-15T09:34:08.000Z  356964000    LATITUDE   HP9651              37.0   \n",
       "\n",
       "  vessel_class  length  width flag_country  flag_code  ...      eta  draught  \\\n",
       "0            A   183.0   32.0      Liberia      636.0  ...  3150800     10.7   \n",
       "1            A   183.0   32.0      Liberia      636.0  ...  3150800     10.7   \n",
       "2            A    37.0   11.0         Fiji      520.0  ...  3141945      5.3   \n",
       "3            A    53.0   11.0       Panama      356.0  ...  1050600      3.0   \n",
       "4            A    53.0   11.0       Panama      356.0  ...  1050600      3.0   \n",
       "\n",
       "   sog    cog  rot heading nav_status nav_status_code  source  message_type  \n",
       "0  0.1  304.1  0.0    17.0  At Anchor               1   S-AIS             3  \n",
       "1  0.1  291.6  0.0    20.0  At Anchor               1   S-AIS             3  \n",
       "2  0.0    0.0  0.0     0.0     Moored               5   S-AIS             3  \n",
       "3  0.0  331.0  0.0     0.0  At Anchor               1   S-AIS            27  \n",
       "4  0.0  140.0  0.0     0.0  At Anchor               1   S-AIS            27  \n",
       "\n",
       "[5 rows x 28 columns]"
      ]
     },
     "execution_count": 4,
     "metadata": {},
     "output_type": "execute_result"
    }
   ],
   "source": [
    "AIS_extract_fiji.head()"
   ]
  },
  {
   "cell_type": "code",
   "execution_count": 109,
   "metadata": {},
   "outputs": [],
   "source": [
    "AIS_extract_fiji_filtered = AIS_extract_fiji[['draught', \n",
    "                                          'mmsi', \n",
    "                                          'dtg',\n",
    "                                          'vessel_name',\n",
    "                                          'vessel_class', \n",
    "                                          'vessel_type_main', \n",
    "                                          'vessel_type_code',\n",
    "                                          'message_type', \n",
    "                                          'nav_status_code', \n",
    "                                          'nav_status', \n",
    "                                          'eta',\n",
    "                                          'destination', \n",
    "                                          'vessel_type_sub', \n",
    "                                          'flag_country']]"
   ]
  },
  {
   "cell_type": "code",
   "execution_count": null,
   "metadata": {},
   "outputs": [],
   "source": [
    "#explaining each code \n",
    "#explain what is filtered out "
   ]
  },
  {
   "cell_type": "code",
   "execution_count": 110,
   "metadata": {},
   "outputs": [
    {
     "data": {
      "text/plain": [
       "draught             3034626\n",
       "mmsi                3034626\n",
       "dtg                 3034626\n",
       "vessel_name         3034626\n",
       "vessel_class        3034626\n",
       "vessel_type_main    1210325\n",
       "vessel_type_code    2969694\n",
       "message_type        3034626\n",
       "nav_status_code     3034626\n",
       "nav_status          3034626\n",
       "eta                 3034626\n",
       "destination         2933642\n",
       "vessel_type_sub      529965\n",
       "flag_country        3020913\n",
       "dtype: int64"
      ]
     },
     "execution_count": 110,
     "metadata": {},
     "output_type": "execute_result"
    }
   ],
   "source": [
    "AIS_extract_fiji_filtered.count()"
   ]
  },
  {
   "cell_type": "code",
   "execution_count": 111,
   "metadata": {},
   "outputs": [
    {
     "data": {
      "text/plain": [
       "0.0026972022252495036"
      ]
     },
     "execution_count": 111,
     "metadata": {},
     "output_type": "execute_result"
    }
   ],
   "source": [
    "# check for duplicates \n",
    "dupli = AIS_extract_fiji_filtered[AIS_extract_fiji_filtered.duplicated()]\n",
    "# % of duplicates \n",
    "dupli['draught'].count()/AIS_extract_fiji_filtered['draught'].count()"
   ]
  },
  {
   "cell_type": "code",
   "execution_count": 112,
   "metadata": {},
   "outputs": [
    {
     "name": "stderr",
     "output_type": "stream",
     "text": [
      "/Users/ethel/opt/anaconda3/lib/python3.7/site-packages/ipykernel_launcher.py:3: SettingWithCopyWarning: \n",
      "A value is trying to be set on a copy of a slice from a DataFrame\n",
      "\n",
      "See the caveats in the documentation: http://pandas.pydata.org/pandas-docs/stable/user_guide/indexing.html#returning-a-view-versus-a-copy\n",
      "  This is separate from the ipykernel package so we can avoid doing imports until\n"
     ]
    }
   ],
   "source": [
    "# remove duplicates \n",
    "\n",
    "AIS_extract_fiji_filtered.drop_duplicates(keep = False, inplace = True)"
   ]
  },
  {
   "cell_type": "code",
   "execution_count": 113,
   "metadata": {},
   "outputs": [
    {
     "data": {
      "text/plain": [
       "draught             3018302\n",
       "mmsi                3018302\n",
       "dtg                 3018302\n",
       "vessel_name         3018302\n",
       "vessel_class        3018302\n",
       "vessel_type_main    1205648\n",
       "vessel_type_code    2953494\n",
       "message_type        3018302\n",
       "nav_status_code     3018302\n",
       "nav_status          3018302\n",
       "eta                 3018302\n",
       "destination         2917346\n",
       "vessel_type_sub      528804\n",
       "flag_country        3004591\n",
       "dtype: int64"
      ]
     },
     "execution_count": 113,
     "metadata": {},
     "output_type": "execute_result"
    }
   ],
   "source": [
    "AIS_extract_fiji_filtered.count()"
   ]
  },
  {
   "cell_type": "code",
   "execution_count": 114,
   "metadata": {},
   "outputs": [
    {
     "data": {
      "text/plain": [
       "draught                   0\n",
       "mmsi                      0\n",
       "dtg                       0\n",
       "vessel_name               0\n",
       "vessel_class              0\n",
       "vessel_type_main    1812654\n",
       "vessel_type_code      64808\n",
       "message_type              0\n",
       "nav_status_code           0\n",
       "nav_status                0\n",
       "eta                       0\n",
       "destination          100956\n",
       "vessel_type_sub     2489498\n",
       "flag_country          13711\n",
       "dtype: int64"
      ]
     },
     "execution_count": 114,
     "metadata": {},
     "output_type": "execute_result"
    }
   ],
   "source": [
    "# check for nulls \n",
    "\n",
    "AIS_extract_fiji_filtered.isnull().sum()"
   ]
  },
  {
   "cell_type": "code",
   "execution_count": 115,
   "metadata": {},
   "outputs": [
    {
     "name": "stderr",
     "output_type": "stream",
     "text": [
      "/Users/ethel/opt/anaconda3/lib/python3.7/site-packages/ipykernel_launcher.py:3: SettingWithCopyWarning: \n",
      "A value is trying to be set on a copy of a slice from a DataFrame.\n",
      "Try using .loc[row_indexer,col_indexer] = value instead\n",
      "\n",
      "See the caveats in the documentation: http://pandas.pydata.org/pandas-docs/stable/user_guide/indexing.html#returning-a-view-versus-a-copy\n",
      "  This is separate from the ipykernel package so we can avoid doing imports until\n"
     ]
    }
   ],
   "source": [
    "#convert date \n",
    "\n",
    "AIS_extract_fiji_filtered['dtg'] = pd.to_datetime(AIS_extract_fiji_filtered['dtg']).apply(lambda x: x.date())"
   ]
  },
  {
   "cell_type": "code",
   "execution_count": 125,
   "metadata": {},
   "outputs": [
    {
     "data": {
      "text/plain": [
       "2019-12-22    22745\n",
       "2020-07-17    20080\n",
       "2020-04-26    18694\n",
       "2020-06-21    18053\n",
       "2019-09-21    17916\n",
       "              ...  \n",
       "2020-08-16     1401\n",
       "2020-08-20     1102\n",
       "2020-08-17      977\n",
       "2020-08-18      784\n",
       "2020-08-19      770\n",
       "Name: dtg, Length: 364, dtype: int64"
      ]
     },
     "execution_count": 125,
     "metadata": {},
     "output_type": "execute_result"
    }
   ],
   "source": [
    "#check extract - number of data points per day \n",
    "\n",
    "AIS_extract_fiji_filtered['dtg'].value_counts()"
   ]
  },
  {
   "cell_type": "markdown",
   "metadata": {},
   "source": [
    "## filtering "
   ]
  },
  {
   "cell_type": "code",
   "execution_count": 126,
   "metadata": {},
   "outputs": [
    {
     "data": {
      "text/html": [
       "<div>\n",
       "<style scoped>\n",
       "    .dataframe tbody tr th:only-of-type {\n",
       "        vertical-align: middle;\n",
       "    }\n",
       "\n",
       "    .dataframe tbody tr th {\n",
       "        vertical-align: top;\n",
       "    }\n",
       "\n",
       "    .dataframe thead th {\n",
       "        text-align: right;\n",
       "    }\n",
       "</style>\n",
       "<table border=\"1\" class=\"dataframe\">\n",
       "  <thead>\n",
       "    <tr style=\"text-align: right;\">\n",
       "      <th></th>\n",
       "      <th>draught</th>\n",
       "      <th>mmsi</th>\n",
       "      <th>dtg</th>\n",
       "      <th>vessel_name</th>\n",
       "      <th>vessel_class</th>\n",
       "      <th>vessel_type_main</th>\n",
       "      <th>vessel_type_code</th>\n",
       "      <th>message_type</th>\n",
       "      <th>nav_status_code</th>\n",
       "      <th>nav_status</th>\n",
       "      <th>eta</th>\n",
       "      <th>destination</th>\n",
       "      <th>vessel_type_sub</th>\n",
       "      <th>flag_country</th>\n",
       "    </tr>\n",
       "  </thead>\n",
       "  <tbody>\n",
       "    <tr>\n",
       "      <td>0</td>\n",
       "      <td>10.7</td>\n",
       "      <td>636016801</td>\n",
       "      <td>2020-03-15</td>\n",
       "      <td>HIGH TRUST</td>\n",
       "      <td>A</td>\n",
       "      <td>Oil And Chemical Tanker</td>\n",
       "      <td>80.0</td>\n",
       "      <td>3</td>\n",
       "      <td>1</td>\n",
       "      <td>At Anchor</td>\n",
       "      <td>3150800</td>\n",
       "      <td>VUDA OPL ANCH</td>\n",
       "      <td>Chemical Oil Products Tanker</td>\n",
       "      <td>Liberia</td>\n",
       "    </tr>\n",
       "    <tr>\n",
       "      <td>1</td>\n",
       "      <td>10.7</td>\n",
       "      <td>636016801</td>\n",
       "      <td>2020-03-15</td>\n",
       "      <td>HIGH TRUST</td>\n",
       "      <td>A</td>\n",
       "      <td>Oil And Chemical Tanker</td>\n",
       "      <td>80.0</td>\n",
       "      <td>3</td>\n",
       "      <td>1</td>\n",
       "      <td>At Anchor</td>\n",
       "      <td>3150800</td>\n",
       "      <td>VUDA OPL ANCH</td>\n",
       "      <td>Chemical Oil Products Tanker</td>\n",
       "      <td>Liberia</td>\n",
       "    </tr>\n",
       "    <tr>\n",
       "      <td>2</td>\n",
       "      <td>5.3</td>\n",
       "      <td>520324000</td>\n",
       "      <td>2020-03-15</td>\n",
       "      <td>WICKHAM</td>\n",
       "      <td>A</td>\n",
       "      <td>NaN</td>\n",
       "      <td>52.0</td>\n",
       "      <td>3</td>\n",
       "      <td>5</td>\n",
       "      <td>Moored</td>\n",
       "      <td>3141945</td>\n",
       "      <td>LAUTOKA</td>\n",
       "      <td>NaN</td>\n",
       "      <td>Fiji</td>\n",
       "    </tr>\n",
       "    <tr>\n",
       "      <td>3</td>\n",
       "      <td>3.0</td>\n",
       "      <td>356964000</td>\n",
       "      <td>2020-03-15</td>\n",
       "      <td>LATITUDE</td>\n",
       "      <td>A</td>\n",
       "      <td>NaN</td>\n",
       "      <td>37.0</td>\n",
       "      <td>27</td>\n",
       "      <td>1</td>\n",
       "      <td>At Anchor</td>\n",
       "      <td>1050600</td>\n",
       "      <td>LTK PORT</td>\n",
       "      <td>NaN</td>\n",
       "      <td>Panama</td>\n",
       "    </tr>\n",
       "    <tr>\n",
       "      <td>4</td>\n",
       "      <td>3.0</td>\n",
       "      <td>356964000</td>\n",
       "      <td>2020-03-15</td>\n",
       "      <td>LATITUDE</td>\n",
       "      <td>A</td>\n",
       "      <td>NaN</td>\n",
       "      <td>37.0</td>\n",
       "      <td>27</td>\n",
       "      <td>1</td>\n",
       "      <td>At Anchor</td>\n",
       "      <td>1050600</td>\n",
       "      <td>LTK PORT</td>\n",
       "      <td>NaN</td>\n",
       "      <td>Panama</td>\n",
       "    </tr>\n",
       "  </tbody>\n",
       "</table>\n",
       "</div>"
      ],
      "text/plain": [
       "   draught       mmsi         dtg vessel_name vessel_class  \\\n",
       "0     10.7  636016801  2020-03-15  HIGH TRUST            A   \n",
       "1     10.7  636016801  2020-03-15  HIGH TRUST            A   \n",
       "2      5.3  520324000  2020-03-15     WICKHAM            A   \n",
       "3      3.0  356964000  2020-03-15    LATITUDE            A   \n",
       "4      3.0  356964000  2020-03-15    LATITUDE            A   \n",
       "\n",
       "          vessel_type_main  vessel_type_code  message_type  nav_status_code  \\\n",
       "0  Oil And Chemical Tanker              80.0             3                1   \n",
       "1  Oil And Chemical Tanker              80.0             3                1   \n",
       "2                      NaN              52.0             3                5   \n",
       "3                      NaN              37.0            27                1   \n",
       "4                      NaN              37.0            27                1   \n",
       "\n",
       "  nav_status      eta    destination               vessel_type_sub  \\\n",
       "0  At Anchor  3150800  VUDA OPL ANCH  Chemical Oil Products Tanker   \n",
       "1  At Anchor  3150800  VUDA OPL ANCH  Chemical Oil Products Tanker   \n",
       "2     Moored  3141945        LAUTOKA                           NaN   \n",
       "3  At Anchor  1050600       LTK PORT                           NaN   \n",
       "4  At Anchor  1050600       LTK PORT                           NaN   \n",
       "\n",
       "  flag_country  \n",
       "0      Liberia  \n",
       "1      Liberia  \n",
       "2         Fiji  \n",
       "3       Panama  \n",
       "4       Panama  "
      ]
     },
     "execution_count": 126,
     "metadata": {},
     "output_type": "execute_result"
    }
   ],
   "source": [
    "# navigation status \n",
    "\n",
    "# keeping \"At Anchor\", \"Moored\"\n",
    "\n",
    "AIS_extract_fiji_at_port = AIS_extract_fiji_filtered[(AIS_extract_fiji_filtered['nav_status'] == 'At Anchor')| (AIS_extract_fiji_filtered['nav_status'] == 'Moored')]\n",
    "AIS_extract_fiji_at_port.head()"
   ]
  },
  {
   "cell_type": "code",
   "execution_count": 127,
   "metadata": {},
   "outputs": [],
   "source": [
    "#vessel types \n",
    "\n",
    "\n",
    "##divide into trade and tourism \n",
    "\n",
    "#removing unrelevant vessel types \n",
    "\n",
    "AIS_extract_fiji_at_port = AIS_extract_fiji_at_port[(AIS_extract_fiji_at_port['vessel_type_sub'] != 'Naval Naval Auxiliary') | (pd.notna(AIS_extract_fiji_at_port['vessel_type_sub']))]\n",
    "\n",
    "\n",
    "\n",
    "AIS_extract_fiji_at_port['vessel_category'] = np.where((AIS_extract_fiji_at_port['vessel_type_sub']== 'Yacht')| (AIS_extract_fiji_at_port['vessel_type_sub']== 'Yacht')| (AIS_extract_fiji_at_port['vessel_type_sub']== 'Sailing Vessel')\n",
    "                                                       , 'tourism', 'trade')\n"
   ]
  },
  {
   "cell_type": "code",
   "execution_count": 128,
   "metadata": {},
   "outputs": [
    {
     "data": {
      "text/plain": [
       "vessel_category\n",
       "tourism    159070\n",
       "trade      792375\n",
       "Name: vessel_category, dtype: int64"
      ]
     },
     "execution_count": 128,
     "metadata": {},
     "output_type": "execute_result"
    }
   ],
   "source": [
    "AIS_extract_fiji_at_port['vessel_category'].groupby(AIS_extract_fiji_at_port['vessel_category']).count()"
   ]
  },
  {
   "cell_type": "code",
   "execution_count": 129,
   "metadata": {},
   "outputs": [
    {
     "data": {
      "text/plain": [
       "vessel_name\n",
       "994027039         8V        1\n",
       "ADIX                      901\n",
       "ALAM SINAR               3077\n",
       "ALP DEFENDER                1\n",
       "AMSTERDAM                 206\n",
       "                        ...  \n",
       "WELLINGTON STAR             1\n",
       "WICKHAM                 86788\n",
       "WICKHAM           !*        1\n",
       "WORLD SWAN 2             1280\n",
       "YIN CAI                  1650\n",
       "Name: vessel_name, Length: 173, dtype: int64"
      ]
     },
     "execution_count": 129,
     "metadata": {},
     "output_type": "execute_result"
    }
   ],
   "source": [
    "#observation per vessel\n",
    "\n",
    "AIS_extract_fiji_at_port['vessel_name'].groupby(AIS_extract_fiji_at_port['vessel_name']).count()"
   ]
  },
  {
   "cell_type": "code",
   "execution_count": 134,
   "metadata": {},
   "outputs": [],
   "source": [
    "#remove row when dtg is nan \n",
    "\n",
    "AIS_extract_fiji_at_port_datediff = AIS_extract_fiji_at_port[AIS_extract_fiji_at_port['dtg'].notnull()]"
   ]
  },
  {
   "cell_type": "code",
   "execution_count": 170,
   "metadata": {},
   "outputs": [],
   "source": [
    "# convert day to month \n",
    "\n",
    "\n",
    "\n",
    "AIS_extract_fiji_at_port['month'] = pd.to_datetime(AIS_extract_fiji_at_port['dtg']).dt.to_period('M') "
   ]
  },
  {
   "cell_type": "code",
   "execution_count": 174,
   "metadata": {},
   "outputs": [],
   "source": [
    "# count number of distinct ID per month \n",
    "\n",
    "\n",
    "# import (not from Fiji)\n",
    "AIS_extract_fiji_at_port_agr = AIS_extract_fiji_at_port[AIS_extract_fiji_at_port['flag_country'] != 'Fiji'][['month', 'vessel_name']].groupby('month').nunique()\n",
    "\n",
    "\n"
   ]
  },
  {
   "cell_type": "code",
   "execution_count": 191,
   "metadata": {},
   "outputs": [
    {
     "data": {
      "text/html": [
       "<div>\n",
       "<style scoped>\n",
       "    .dataframe tbody tr th:only-of-type {\n",
       "        vertical-align: middle;\n",
       "    }\n",
       "\n",
       "    .dataframe tbody tr th {\n",
       "        vertical-align: top;\n",
       "    }\n",
       "\n",
       "    .dataframe thead th {\n",
       "        text-align: right;\n",
       "    }\n",
       "</style>\n",
       "<table border=\"1\" class=\"dataframe\">\n",
       "  <thead>\n",
       "    <tr style=\"text-align: right;\">\n",
       "      <th></th>\n",
       "      <th>count</th>\n",
       "      <th>num_ships</th>\n",
       "    </tr>\n",
       "    <tr>\n",
       "      <th>month</th>\n",
       "      <th></th>\n",
       "      <th></th>\n",
       "    </tr>\n",
       "  </thead>\n",
       "  <tbody>\n",
       "    <tr>\n",
       "      <td>2019-09</td>\n",
       "      <td>1</td>\n",
       "      <td>48</td>\n",
       "    </tr>\n",
       "    <tr>\n",
       "      <td>2019-10</td>\n",
       "      <td>1</td>\n",
       "      <td>44</td>\n",
       "    </tr>\n",
       "    <tr>\n",
       "      <td>2019-11</td>\n",
       "      <td>1</td>\n",
       "      <td>39</td>\n",
       "    </tr>\n",
       "    <tr>\n",
       "      <td>2019-12</td>\n",
       "      <td>1</td>\n",
       "      <td>31</td>\n",
       "    </tr>\n",
       "    <tr>\n",
       "      <td>2020-01</td>\n",
       "      <td>1</td>\n",
       "      <td>58</td>\n",
       "    </tr>\n",
       "    <tr>\n",
       "      <td>2020-02</td>\n",
       "      <td>1</td>\n",
       "      <td>41</td>\n",
       "    </tr>\n",
       "    <tr>\n",
       "      <td>2020-03</td>\n",
       "      <td>1</td>\n",
       "      <td>30</td>\n",
       "    </tr>\n",
       "    <tr>\n",
       "      <td>2020-04</td>\n",
       "      <td>1</td>\n",
       "      <td>30</td>\n",
       "    </tr>\n",
       "    <tr>\n",
       "      <td>2020-05</td>\n",
       "      <td>1</td>\n",
       "      <td>25</td>\n",
       "    </tr>\n",
       "    <tr>\n",
       "      <td>2020-06</td>\n",
       "      <td>1</td>\n",
       "      <td>26</td>\n",
       "    </tr>\n",
       "    <tr>\n",
       "      <td>2020-07</td>\n",
       "      <td>1</td>\n",
       "      <td>31</td>\n",
       "    </tr>\n",
       "    <tr>\n",
       "      <td>2020-08</td>\n",
       "      <td>1</td>\n",
       "      <td>31</td>\n",
       "    </tr>\n",
       "    <tr>\n",
       "      <td>2020-09</td>\n",
       "      <td>1</td>\n",
       "      <td>8</td>\n",
       "    </tr>\n",
       "  </tbody>\n",
       "</table>\n",
       "</div>"
      ],
      "text/plain": [
       "         count  num_ships\n",
       "month                    \n",
       "2019-09      1         48\n",
       "2019-10      1         44\n",
       "2019-11      1         39\n",
       "2019-12      1         31\n",
       "2020-01      1         58\n",
       "2020-02      1         41\n",
       "2020-03      1         30\n",
       "2020-04      1         30\n",
       "2020-05      1         25\n",
       "2020-06      1         26\n",
       "2020-07      1         31\n",
       "2020-08      1         31\n",
       "2020-09      1          8"
      ]
     },
     "execution_count": 191,
     "metadata": {},
     "output_type": "execute_result"
    }
   ],
   "source": [
    "AIS_extract_fiji_at_port_agr"
   ]
  },
  {
   "cell_type": "code",
   "execution_count": 182,
   "metadata": {},
   "outputs": [],
   "source": [
    "AIS_extract_fiji_at_port_agr.columns = ['count', 'num_ships']"
   ]
  },
  {
   "cell_type": "code",
   "execution_count": 183,
   "metadata": {},
   "outputs": [
    {
     "data": {
      "text/plain": [
       "PeriodIndex(['2019-09', '2019-10', '2019-11', '2019-12', '2020-01', '2020-02',\n",
       "             '2020-03', '2020-04', '2020-05', '2020-06', '2020-07', '2020-08',\n",
       "             '2020-09'],\n",
       "            dtype='period[M]', name='month', freq='M')"
      ]
     },
     "execution_count": 183,
     "metadata": {},
     "output_type": "execute_result"
    }
   ],
   "source": [
    "AIS_extract_fiji_at_port_agr.index"
   ]
  },
  {
   "cell_type": "code",
   "execution_count": 184,
   "metadata": {},
   "outputs": [],
   "source": [
    "#import test Fiji import data \n",
    "\n",
    "\n",
    "import_test_fiji = pd.read_csv('test_import.csv')"
   ]
  },
  {
   "cell_type": "code",
   "execution_count": 187,
   "metadata": {},
   "outputs": [
    {
     "data": {
      "text/plain": [
       "0.11696182379146003"
      ]
     },
     "execution_count": 187,
     "metadata": {},
     "output_type": "execute_result"
    }
   ],
   "source": [
    "#clean\n",
    "#convert  datetime \n",
    "import_test_fiji['month'] = pd.to_datetime(import_test_fiji['date']).dt.to_period('M')\n",
    "\n",
    "\n",
    "#merge \n",
    "import_test_fiji_merged = import_test_fiji.merge(AIS_extract_fiji_at_port_agr, left_on = 'month', right_on = 'month')\n",
    "\n",
    "#correlation\n",
    "import_test_fiji_merged['value'].astype(float).corr(import_test_fiji_merged['num_ships'].astype(float))\n"
   ]
  },
  {
   "cell_type": "code",
   "execution_count": 190,
   "metadata": {},
   "outputs": [
    {
     "data": {
      "text/plain": [
       "[<matplotlib.lines.Line2D at 0x11f14a2d0>]"
      ]
     },
     "execution_count": 190,
     "metadata": {},
     "output_type": "execute_result"
    },
    {
     "data": {
      "image/png": "[encoded data removed]",
      "text/plain": [
       "<Figure size 432x288 with 2 Axes>"
      ]
     },
     "metadata": {
      "needs_background": "light"
     },
     "output_type": "display_data"
    }
   ],
   "source": [
    "#visualisation \n",
    "fig, ax_left = plt.subplots()\n",
    "ax_right = ax_left.twinx()\n",
    "\n",
    "ax_left.plot(import_test_fiji_merged['value'].astype(float), color='black')\n",
    "ax_right.plot(import_test_fiji_merged['num_ships'].astype(float), color='red')"
   ]
  },
  {
   "cell_type": "code",
   "execution_count": null,
   "metadata": {},
   "outputs": [],
   "source": []
  },
  {
   "cell_type": "code",
   "execution_count": null,
   "metadata": {},
   "outputs": [],
   "source": []
  },
  {
   "cell_type": "code",
   "execution_count": null,
   "metadata": {},
   "outputs": [],
   "source": []
  },
  {
   "cell_type": "code",
   "execution_count": null,
   "metadata": {},
   "outputs": [],
   "source": []
  },
  {
   "cell_type": "markdown",
   "metadata": {},
   "source": [
    "## Additional resources "
   ]
  },
  {
   "cell_type": "code",
   "execution_count": null,
   "metadata": {},
   "outputs": [],
   "source": [
    "\"\"\"\n",
    "name: Name of the vessel (text).\n",
    "mmsi: Maritime Mobile Service Identity number of the vessel (text).\n",
    "imo: International Maritime Organization number of the vessel (text).\n",
    "callsign: Call sign of the vessel (text).\n",
    "type: Vessel type (text).\n",
    "loa: Overall length of the vessel (text).\n",
    "lat: Latitude coordinate (decimal degrees) of the vessel’s position (text).\n",
    "lon: Longitude coordinate (decimal degrees) of the vessel’s position (text).\n",
    "sog: Vessel’s speed over ground (text).\n",
    "cog: Vessel’s course over ground (text).\n",
    "hdg: Vessel’s heading (text).\n",
    "epoch: The seconds field of the UTC time when the data were generated (text).\n",
    "\n",
    "\"\"\""
   ]
  },
  {
   "cell_type": "code",
   "execution_count": null,
   "metadata": {},
   "outputs": [],
   "source": []
  }
 ],
 "metadata": {
  "kernelspec": {
   "display_name": "Python 3",
   "language": "python",
   "name": "python3"
  },
  "language_info": {
   "codemirror_mode": {
    "name": "ipython",
    "version": 3
   },
   "file_extension": ".py",
   "mimetype": "text/x-python",
   "name": "python",
   "nbconvert_exporter": "python",
   "pygments_lexer": "ipython3",
   "version": "3.7.4"
  }
 },
 "nbformat": 4,
 "nbformat_minor": 4
}
