{
 "cells": [
  {
   "cell_type": "markdown",
   "metadata": {},
   "source": [
    "# Model Prototyping\n",
    "Geoff Pidcock | PacifImpact | Sept 2020\n",
    "\n",
    "## Scope\n",
    "- Review prior examples of \"Nowcasting\"\n",
    "  - what algorithms\n",
    "  - how were they evaluated\n",
    "  - were there any gold standards\n",
    "- Apply method to toy data example"
   ]
  },
  {
   "cell_type": "markdown",
   "metadata": {},
   "source": [
    "# Review\n",
    "\n",
    "#### Macroeconomic Nowcasting with Kalman Filtering, Jason Yip (Medium)\n",
    "[link](https://towardsdatascience.com/macroeconomic-nowcasting-with-kalman-filtering-557926dbc737)\n",
    "- References `Macroeconomic Nowcasting and Forecasting with Big Data` (Brandyn Bok et al, 2018) [link](https://www.annualreviews.org/doi/abs/10.1146/annurev-economics-080217-053214) (behind a paywall)\n",
    "   - [version that's open](https://www.newyorkfed.org/medialibrary/media/research/staff_reports/sr830.pdf)\n",
    "   - 55 citations\n",
    "- "
   ]
  },
  {
   "cell_type": "markdown",
   "metadata": {},
   "source": [
    "#### Analysing port and shipping operations using big data, Bonham et al (2018)\n",
    "[link](https://datasciencecampus.ons.gov.uk/wp-content/uploads/sites/10/2020/04/Report_Analysing_port_and_shipping_operations_using_big_data_June2018.pdf)\n"
   ]
  },
  {
   "cell_type": "code",
   "execution_count": null,
   "metadata": {},
   "outputs": [],
   "source": []
  }
 ],
 "metadata": {
  "kernelspec": {
   "display_name": "ais-hack",
   "language": "python",
   "name": "ais-hack"
  },
  "language_info": {
   "codemirror_mode": {
    "name": "ipython",
    "version": 3
   },
   "file_extension": ".py",
   "mimetype": "text/x-python",
   "name": "python",
   "nbconvert_exporter": "python",
   "pygments_lexer": "ipython3",
   "version": "3.8.5"
  }
 },
 "nbformat": 4,
 "nbformat_minor": 2
}
